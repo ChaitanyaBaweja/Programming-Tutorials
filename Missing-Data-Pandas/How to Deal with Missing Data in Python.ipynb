{
 "cells": [
  {
   "cell_type": "markdown",
   "metadata": {},
   "source": [
    "# How to Deal with Missing Data in Python"
   ]
  },
  {
   "cell_type": "markdown",
   "metadata": {},
   "source": [
    "## The Employee Dataset\n",
    "\n",
    "We will be working with a very small Employee Dataset for this tutorial. Download the dataset in csv format from my Github repo and store it in your current working directory: [employees.csv](https://github.com/ChaitanyaBaweja/Programming-Tutorials/tree/master/Missing-Data-Pandas)\n",
    "\n",
    "Let’s import this dataset into Python and take a look at it. \n"
   ]
  },
  {
   "cell_type": "code",
   "execution_count": 24,
   "metadata": {},
   "outputs": [
    {
     "name": "stdout",
     "output_type": "stream",
     "text": [
      "  First Name  Gender Start Date Last Login Time  Salary Bonus %  \\\n",
      "0    Douglas    Male   08-06-93        12:42 PM   97308   6.945   \n",
      "1     Thomas    Male  3/31/1996         6:53 AM   61933     NaN   \n",
      "2      Maria  Female  4/23/1993             NaN  130590  11.858   \n",
      "3      Jerry    Male   03-04-05         1:00 PM     NaN    9.34   \n",
      "4      Larry    Male  1/24/1998         4:47 PM  101004   1.389   \n",
      "\n",
      "  Senior Management             Team  \n",
      "0              TRUE        Marketing  \n",
      "1              TRUE              NaN  \n",
      "2             FALSE          Finance  \n",
      "3              TRUE          Finance  \n",
      "4              TRUE  Client Services  \n"
     ]
    }
   ],
   "source": [
    "# Importing libraries\n",
    "import pandas as pd\n",
    "import numpy as np\n",
    "\n",
    "# Read csv file into a pandas dataframe\n",
    "df = pd.read_csv(\"employees.csv\")\n",
    "\n",
    "# Prints out the first few rows\n",
    "print(df.head())\n"
   ]
  },
  {
   "cell_type": "markdown",
   "metadata": {},
   "source": [
    "There are 1000 columns with 8 variables. You can get some basic statistics out using the `.dtypes` and `.describe()` method."
   ]
  },
  {
   "cell_type": "code",
   "execution_count": 25,
   "metadata": {},
   "outputs": [
    {
     "name": "stdout",
     "output_type": "stream",
     "text": [
      "First Name           object\n",
      "Gender               object\n",
      "Start Date           object\n",
      "Last Login Time      object\n",
      "Salary               object\n",
      "Bonus %              object\n",
      "Senior Management    object\n",
      "Team                 object\n",
      "dtype: object\n",
      "       First Name  Gender Start Date Last Login Time Salary Bonus %  \\\n",
      "count         931     852        996             997    998     997   \n",
      "unique        201       3        968             719    993     968   \n",
      "top       Marilyn  Female   03-01-04         1:35 PM      ?  12.182   \n",
      "freq           11     428          2               5      2       3   \n",
      "\n",
      "       Senior Management             Team  \n",
      "count                932              957  \n",
      "unique                 4               13  \n",
      "top                 TRUE  Client Services  \n",
      "freq                 467              105  \n"
     ]
    }
   ],
   "source": [
    "print(df.dtypes)\n",
    "print(df.describe())"
   ]
  },
  {
   "cell_type": "markdown",
   "metadata": {},
   "source": [
    "You would notice that the dtypes of all the columns is object. This shouldn't be the case for Salary, Senior Management and Bonus. This happens because we have **corrupt values in these columns**. Once we handle these missing values, we will convert these to the required type using `.astype()` method. "
   ]
  },
  {
   "cell_type": "markdown",
   "metadata": {},
   "source": [
    "## How to mark invalid/ corrupt values as missing\n",
    "\n",
    "Pandas treat None and NaN as essentially interchangeable for indicating missing or null values. Other values like na and ? are not recognized by Pandas by default. Let’s focus on the Salary Column. "
   ]
  },
  {
   "cell_type": "code",
   "execution_count": 26,
   "metadata": {},
   "outputs": [
    {
     "name": "stdout",
     "output_type": "stream",
     "text": [
      "Salary\n",
      "0     97308\n",
      "1     61933\n",
      "2    130590\n",
      "3       NaN\n",
      "4    101004\n",
      "5    115163\n",
      "6     65476\n",
      "7     45906\n",
      "8       NaN\n",
      "9    139852\n",
      "Name: Salary, dtype: object\n"
     ]
    }
   ],
   "source": [
    "print('Salary')\n",
    "print(df['Salary'].head(10))\n"
   ]
  },
  {
   "cell_type": "markdown",
   "metadata": {},
   "source": [
    "In the 8th row there’s a missing value and in the 3rd row there is a NA, which Pandas automatically fills with NaN. But what happens with other symbols like ?, n.a., etc. Let's look at the Gender column."
   ]
  },
  {
   "cell_type": "code",
   "execution_count": 28,
   "metadata": {},
   "outputs": [
    {
     "name": "stdout",
     "output_type": "stream",
     "text": [
      "Gender\n",
      "0      Male\n",
      "1      Male\n",
      "2    Female\n",
      "3      Male\n",
      "4      Male\n",
      "5      n.a.\n",
      "6    Female\n",
      "7    Female\n",
      "8       NaN\n",
      "9    Female\n",
      "Name: Gender, dtype: object\n"
     ]
    }
   ],
   "source": [
    "print(df['Gender'].head(10))"
   ]
  },
  {
   "cell_type": "markdown",
   "metadata": {},
   "source": [
    "We notice that n.a. isn't converted to NaN and remains in its original form. \n",
    "We can pass these formats in the `.read_csv()` method to allow Pandas to recognize them as corrupt values. Take a look:"
   ]
  },
  {
   "cell_type": "code",
   "execution_count": 29,
   "metadata": {},
   "outputs": [
    {
     "name": "stdout",
     "output_type": "stream",
     "text": [
      "0      Male\n",
      "1      Male\n",
      "2    Female\n",
      "3      Male\n",
      "4      Male\n",
      "5       NaN\n",
      "6    Female\n",
      "7    Female\n",
      "8       NaN\n",
      "9    Female\n",
      "Name: Gender, dtype: object\n"
     ]
    }
   ],
   "source": [
    "# a list with all missing value formats\n",
    "missing_value_formats = [\"n.a.\",\"?\",\"NA\",\"n/a\", \"na\", \"--\"]\n",
    "df = pd.read_csv(\"employees.csv\", na_values = missing_value_formats)\n",
    "\n",
    "#print gender again\n",
    "print(df['Gender'].head(10))"
   ]
  },
  {
   "cell_type": "markdown",
   "metadata": {},
   "source": [
    "In Pandas, we have two functions for marking missing values: \n",
    "•\tisnull() function to mark all of the NaN values in the dataset as True\n",
    "•\tnotnull() to mark all of the NaN values in the dataset as False.\n"
   ]
  },
  {
   "cell_type": "code",
   "execution_count": 30,
   "metadata": {},
   "outputs": [
    {
     "name": "stdout",
     "output_type": "stream",
     "text": [
      "0    False\n",
      "1    False\n",
      "2    False\n",
      "3    False\n",
      "4    False\n",
      "5     True\n",
      "6    False\n",
      "7    False\n",
      "8     True\n",
      "9    False\n",
      "Name: Gender, dtype: bool\n",
      "0     True\n",
      "1     True\n",
      "2     True\n",
      "3     True\n",
      "4     True\n",
      "5    False\n",
      "6     True\n",
      "7     True\n",
      "8    False\n",
      "9     True\n",
      "Name: Gender, dtype: bool\n"
     ]
    }
   ],
   "source": [
    "print(df['Gender'].isnull().head(10)) # NaN values are marked True\n",
    "print(df['Gender'].notnull().head(10)) # non-NaN values are marked True\n"
   ]
  },
  {
   "cell_type": "markdown",
   "metadata": {},
   "source": [
    "We can use the outputs of the isnull and notnull function for filtering. Let’s print all those rows of the database for which Gender is not missing. "
   ]
  },
  {
   "cell_type": "code",
   "execution_count": 34,
   "metadata": {},
   "outputs": [
    {
     "name": "stdout",
     "output_type": "stream",
     "text": [
      "  First Name  Gender Start Date Last Login Time    Salary  Bonus %  \\\n",
      "0    Douglas    Male   08-06-93        12:42 PM   97308.0    6.945   \n",
      "1     Thomas    Male  3/31/1996         6:53 AM   61933.0      NaN   \n",
      "2      Maria  Female  4/23/1993             NaN  130590.0   11.858   \n",
      "3      Jerry    Male   03-04-05         1:00 PM       NaN    9.340   \n",
      "4      Larry    Male  1/24/1998         4:47 PM  101004.0    1.389   \n",
      "\n",
      "  Senior Management             Team  \n",
      "0              True        Marketing  \n",
      "1              True              NaN  \n",
      "2             False          Finance  \n",
      "3              True          Finance  \n",
      "4              True  Client Services  \n"
     ]
    }
   ],
   "source": [
    "# returns True on indices for which Gender is not NaN\n",
    "null_filter = df['Gender'].notnull()\n",
    "print(df[null_filter].head())"
   ]
  },
  {
   "cell_type": "code",
   "execution_count": 35,
   "metadata": {},
   "outputs": [
    {
     "name": "stdout",
     "output_type": "stream",
     "text": [
      "False\n"
     ]
    }
   ],
   "source": [
    "# drop all rows with NaN values\n",
    "df.dropna(axis=0,inplace=True)\n",
    "\n",
    "# check if we have any NaN values in our dataset\n",
    "print(df.isnull().values.any())\n"
   ]
  },
  {
   "cell_type": "code",
   "execution_count": null,
   "metadata": {},
   "outputs": [],
   "source": [
    "# drop all rows with atleast one NaN\n",
    "new_df = df.dropna(axis = 0, how ='any')  \n",
    "\n",
    "# drop all rows with all NaN\n",
    "new_df = df.dropna(axis = 0, how ='all')\n",
    "\n",
    "# drop all columns with atleast one NaN\n",
    "new_df = df.dropna(axis = 1, how ='any')\n",
    "\n",
    "# drop all columns with all NaN\n",
    "new_df = df.dropna(axis = 1, how ='all')\n"
   ]
  }
 ],
 "metadata": {
  "kernelspec": {
   "display_name": "Python 3",
   "language": "python",
   "name": "python3"
  },
  "language_info": {
   "codemirror_mode": {
    "name": "ipython",
    "version": 3
   },
   "file_extension": ".py",
   "mimetype": "text/x-python",
   "name": "python",
   "nbconvert_exporter": "python",
   "pygments_lexer": "ipython3",
   "version": "3.7.4"
  }
 },
 "nbformat": 4,
 "nbformat_minor": 2
}
